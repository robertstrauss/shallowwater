{
 "cells": [
  {
   "cell_type": "code",
   "execution_count": null,
   "metadata": {},
   "outputs": [],
   "source": [
    "import netCDF4 as nc\n",
    "\n",
    "# read multiple files (wildcard)\n",
    "vn = nc.MFDataset('data_y*.nc') \n",
    "\n",
    "# read multiple files (file list)\n",
    "vn = nc.MFDataset(['data_y1997','data_y1998','data_y1999'])\n",
    "\n",
    "# Variable from multiple files.\n",
    "airv = vn.variables['ts']"
   ]
  }
 ],
 "metadata": {
  "kernelspec": {
   "display_name": "Python 3",
   "language": "python",
   "name": "python3"
  },
  "language_info": {
   "codemirror_mode": {
    "name": "ipython",
    "version": 3
   },
   "file_extension": ".py",
   "mimetype": "text/x-python",
   "name": "python",
   "nbconvert_exporter": "python",
   "pygments_lexer": "ipython3",
   "version": "3.7.0"
  }
 },
 "nbformat": 4,
 "nbformat_minor": 2
}
