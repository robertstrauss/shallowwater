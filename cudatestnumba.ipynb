{
 "cells": [
  {
   "cell_type": "code",
   "execution_count": 24,
   "metadata": {},
   "outputs": [],
   "source": [
    "import numba as nb\n",
    "import numpy as np\n",
    "from numba import cuda\n"
   ]
  },
  {
   "cell_type": "code",
   "execution_count": 25,
   "metadata": {},
   "outputs": [
    {
     "name": "stdout",
     "output_type": "stream",
     "text": [
      "Blocks per grid: 4\n",
      "Threads per block 32\n",
      "47.3 µs ± 311 ns per loop (mean ± std. dev. of 7 runs, 10000 loops each)\n",
      "[  0.   2.   4.   6.   8.  10.  12.  14.  16.  18.  20.  22.  24.  26.\n",
      "  28.  30.  32.  34.  36.  38.  40.  42.  44.  46.  48.  50.  52.  54.\n",
      "  56.  58.  60.  62.  64.  66.  68.  70.  72.  74.  76.  78.  80.  82.\n",
      "  84.  86.  88.  90.  92.  94.  96.  98. 100. 102. 104. 106. 108. 110.\n",
      " 112. 114. 116. 118. 120. 122. 124. 126. 128. 130. 132. 134. 136. 138.\n",
      " 140. 142. 144. 146. 148. 150. 152. 154. 156. 158. 160. 162. 164. 166.\n",
      " 168. 170. 172. 174. 176. 178. 180. 182. 184. 186. 188. 190. 192. 194.\n",
      " 196. 198.]\n",
      "(64, 64) (32, 32)\n",
      "13.6 ms ± 155 µs per loop (mean ± std. dev. of 7 runs, 100 loops each)\n",
      "[[0.48471838 0.19326018 0.24558993 0.9512417  0.5472509 ]\n",
      " [0.19016863 0.6582351  0.7993192  0.24108073 0.50878245]\n",
      " [0.16148567 0.49161237 0.2185717  0.8951179  0.8927562 ]\n",
      " [0.26769117 0.5325211  0.48802334 0.32992548 0.45702055]\n",
      " [0.31001717 0.85399127 0.42110714 0.8299771  0.9273521 ]]\n",
      "[[1. 1. 1. 1. 1.]\n",
      " [1. 1. 1. 1. 1.]\n",
      " [1. 1. 1. 1. 1.]\n",
      " [1. 1. 1. 1. 1.]\n",
      " [1. 1. 1. 1. 1.]]\n",
      "[[2.9694366 2.3865204 2.49118   3.9024835 3.094502 ]\n",
      " [2.3803372 3.3164701 3.5986385 2.4821615 3.0175648]\n",
      " [2.3229713 2.9832249 2.4371433 3.7902358 3.7855124]\n",
      " [2.5353823 3.0650423 2.9760466 2.659851  2.914041 ]\n",
      " [2.6200342 3.7079825 2.8422143 3.659954  3.8547041]]\n"
     ]
    }
   ],
   "source": [
    "import numba as nb\n",
    "import numpy as np\n",
    "from numba import cuda\n",
    "\n",
    "@cuda.jit('void(float32[:], float32[:], float32[:])')\n",
    "def cu_add1(a, b, c):\n",
    "    \"\"\"This kernel function will be executed by a thread.\"\"\"\n",
    "    bx = cuda.blockIdx.x # which block in the grid?\n",
    "    bw = cuda.blockDim.x # what is the size of a block?\n",
    "    tx = cuda.threadIdx.x # unique thread ID within a blcok\n",
    "    i = tx + bx * bw\n",
    "\n",
    "    if i > c.size:\n",
    "        return\n",
    "\n",
    "    c[i] = a[i] + b[i]\n",
    "    \n",
    "    \n",
    "device = cuda.get_current_device()\n",
    "\n",
    "n = 100\n",
    "\n",
    "# Host memory\n",
    "a = np.arange(n, dtype=np.float32)\n",
    "b = np.arange(n, dtype=np.float32)\n",
    "\n",
    "# Assign equivalent storage on device\n",
    "da = cuda.to_device(a)\n",
    "db = cuda.to_device(b)\n",
    "\n",
    "# Assign storage on device for output\n",
    "dc = cuda.device_array_like(a)\n",
    "\n",
    "# Set up enough threads for kernel\n",
    "tpb = device.WARP_SIZE\n",
    "bpg = int(np.ceil(float(n)/tpb))\n",
    "print ('Blocks per grid:', bpg)\n",
    "print ('Threads per block', tpb)\n",
    "\n",
    "# Launch kernel\n",
    "%timeit cu_add1[bpg, tpb](da, db, dc)\n",
    "\n",
    "# Transfer output from device to host\n",
    "c = dc.copy_to_host()\n",
    "\n",
    "print (c)    \n",
    "#\n",
    "@cuda.jit('void(float32[:,:], float32[:,:], float32, float32[:,:])')\n",
    "def cu_add_2d(a, b, m, c):\n",
    "    \"\"\"This kernel function will be executed by a thread.\"\"\"\n",
    "    i, j  = cuda.grid(2)\n",
    "\n",
    "    if (i < c.shape[0]) and (j < c.shape[1]):\n",
    "        c[i, j] = m*(a[i, j] + b[i, j])\n",
    "    cuda.syncthreads()\n",
    "    \n",
    "    \n",
    "device = cuda.get_current_device()\n",
    "\n",
    "n = 2023\n",
    "p = 2023\n",
    "a = np.random.random((n, p)).astype(np.float32)\n",
    "b = np.ones((n, p)).astype(np.float32)\n",
    "c = np.empty_like(a)\n",
    "\n",
    "threadsperblock = (32, 32)\n",
    "blockspergrid_x = (n + threadsperblock[0]) // threadsperblock[0]\n",
    "blockspergrid_y = (p + threadsperblock[1]) // threadsperblock[1]\n",
    "blockspergrid = (blockspergrid_x, blockspergrid_y)\n",
    "\n",
    "print (blockspergrid, threadsperblock)\n",
    "mm = np.float32(2.0)\n",
    "for i in range(4000):\n",
    "    cu_add_2d[blockspergrid, threadsperblock](a, b,mm, c)\n",
    "%timeit cu_add_2d[blockspergrid, threadsperblock](a, b,mm, c)\n",
    "print (a[-5:, -5:])\n",
    "print (b[-5:, -5:])\n",
    "print (c[-5:, -5:])\n",
    "\n",
    "cuda.close()  # ha.  needs this."
   ]
  },
  {
   "cell_type": "code",
   "execution_count": 23,
   "metadata": {},
   "outputs": [
    {
     "ename": "NameError",
     "evalue": "name 'A' is not defined",
     "output_type": "error",
     "traceback": [
      "\u001b[0;31m---------------------------------------------------------------------------\u001b[0m",
      "\u001b[0;31mNameError\u001b[0m                                 Traceback (most recent call last)",
      "\u001b[0;32m<ipython-input-23-27626069b48c>\u001b[0m in \u001b[0;36m<module>\u001b[0;34m\u001b[0m\n\u001b[0;32m----> 1\u001b[0;31m \u001b[0mA\u001b[0m\u001b[0;34m=\u001b[0m\u001b[0mnb\u001b[0m\u001b[0;34m.\u001b[0m\u001b[0mSmartArray\u001b[0m\u001b[0;34m(\u001b[0m\u001b[0mA\u001b[0m\u001b[0;34m)\u001b[0m\u001b[0;34m\u001b[0m\u001b[0;34m\u001b[0m\u001b[0m\n\u001b[0m\u001b[1;32m      2\u001b[0m \u001b[0mB\u001b[0m\u001b[0;34m=\u001b[0m\u001b[0mnb\u001b[0m\u001b[0;34m.\u001b[0m\u001b[0mSmartArray\u001b[0m\u001b[0;34m(\u001b[0m\u001b[0mB\u001b[0m\u001b[0;34m)\u001b[0m\u001b[0;34m\u001b[0m\u001b[0;34m\u001b[0m\u001b[0m\n\u001b[1;32m      3\u001b[0m \u001b[0mC\u001b[0m\u001b[0;34m=\u001b[0m\u001b[0mnb\u001b[0m\u001b[0;34m.\u001b[0m\u001b[0mSmartArray\u001b[0m\u001b[0;34m(\u001b[0m\u001b[0mC\u001b[0m\u001b[0;34m)\u001b[0m\u001b[0;34m\u001b[0m\u001b[0;34m\u001b[0m\u001b[0m\n",
      "\u001b[0;31mNameError\u001b[0m: name 'A' is not defined"
     ]
    }
   ],
   "source": [
    "A=nb.SmartArray(A)\n",
    "B=nb.SmartArray(B)\n",
    "C=nb.SmartArray(C)"
   ]
  },
  {
   "cell_type": "code",
   "execution_count": null,
   "metadata": {},
   "outputs": [],
   "source": []
  },
  {
   "cell_type": "code",
   "execution_count": null,
   "metadata": {},
   "outputs": [],
   "source": []
  },
  {
   "cell_type": "code",
   "execution_count": null,
   "metadata": {},
   "outputs": [],
   "source": []
  }
 ],
 "metadata": {
  "kernelspec": {
   "display_name": "Python 3",
   "language": "python",
   "name": "python3"
  },
  "language_info": {
   "codemirror_mode": {
    "name": "ipython",
    "version": 3
   },
   "file_extension": ".py",
   "mimetype": "text/x-python",
   "name": "python",
   "nbconvert_exporter": "python",
   "pygments_lexer": "ipython3",
   "version": "3.7.2"
  }
 },
 "nbformat": 4,
 "nbformat_minor": 2
}
