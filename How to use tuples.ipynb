{
 "cells": [
  {
   "cell_type": "code",
   "execution_count": 3,
   "metadata": {},
   "outputs": [],
   "source": [
    "import numba as nb\n",
    "import numba.cuda as cuda\n",
    "import numpy as np\n",
    "import pylab as plt"
   ]
  },
  {
   "cell_type": "markdown",
   "metadata": {},
   "source": [
    "#@nb.njit(nb.types.Array(nb.int32, 0, \"C\")())\n",
    "\n",
    "Tuple with homogeneous types :\n",
    "for example we can have :\n",
    "\n",
    "@nb.jit(nb.types.UniTuple(nb.float64[:],2)(nb.float64[:]),nopython=True)\n",
    "def f(a) :\n",
    "    return a,a\n",
    "\n",
    "@nb.jit('UniTuple(float64[:], 2)(float64[:])',nopython=True)\n",
    "def f(a) :\n",
    "    return a,a\n",
    "Tuple with heterogeneous types :\n",
    "@nb.jit(nb.types.Tuple((nb.float64[:], nb.float64[:,:]))(nb.float64[:], nb.float64[:,:]),nopython=True)\n",
    "def f(a, b) :\n",
    "    return a, b\n",
    "\n",
    "@nb.jit('Tuple((float64[:], float64[:,:]))(float64[:], float64[:,:])',nopython=True)\n",
    "def f(a, b) :\n",
    "    return a, b\n",
    "\n",
    "\n",
    "@nb.njit(nb.float32 (nb.float32,nb.types.Tuple(nb.int32) ))\n",
    "def foo(b,c):\n",
    "    return b*c[0]\n",
    "\n",
    "\n"
   ]
  },
  {
   "cell_type": "code",
   "execution_count": 66,
   "metadata": {},
   "outputs": [],
   "source": [
    "# example of passing tuples into this\n",
    "\n",
    "# the downside of this is that the signature has to be specified exactly for the tuple size\n",
    "\n",
    "@nb.jit('float32(int64,int64,UniTuple(int64,5), UniTuple(float32[:],5))')\n",
    "def foo(N,i,w,x):\n",
    "    tmp=0\n",
    "    for k in range(N):\n",
    "        tmp += w[k]*x[k][i]\n",
    "    return tmp"
   ]
  },
  {
   "cell_type": "code",
   "execution_count": 67,
   "metadata": {},
   "outputs": [],
   "source": [
    "x = np.arange(3,dtype=np.float32)\n",
    "y = np.copy(x)\n",
    "z = np.copy(x)"
   ]
  },
  {
   "cell_type": "code",
   "execution_count": 68,
   "metadata": {},
   "outputs": [
    {
     "data": {
      "text/plain": [
       "array([0., 1., 2.], dtype=float32)"
      ]
     },
     "execution_count": 68,
     "metadata": {},
     "output_type": "execute_result"
    }
   ],
   "source": [
    "x"
   ]
  },
  {
   "cell_type": "code",
   "execution_count": 69,
   "metadata": {},
   "outputs": [
    {
     "data": {
      "text/plain": [
       "12.0"
      ]
     },
     "execution_count": 69,
     "metadata": {},
     "output_type": "execute_result"
    }
   ],
   "source": [
    "foo(3,1,(3,4,5,0,0),(x,y,z,x,x))"
   ]
  },
  {
   "cell_type": "code",
   "execution_count": 82,
   "metadata": {},
   "outputs": [],
   "source": [
    "# solution is not to use a signature!\n",
    "\n",
    "@nb.jit()\n",
    "def bar(i,w,x):\n",
    "    tmp=0\n",
    "    for k,j in zip(w,x):\n",
    "        tmp += k*j[i]\n",
    "    return tmp\n"
   ]
  },
  {
   "cell_type": "code",
   "execution_count": 83,
   "metadata": {},
   "outputs": [
    {
     "data": {
      "text/plain": [
       "12.0"
      ]
     },
     "execution_count": 83,
     "metadata": {},
     "output_type": "execute_result"
    }
   ],
   "source": [
    "bar(1,(3,4,5,),(x,y,z,))"
   ]
  },
  {
   "cell_type": "code",
   "execution_count": null,
   "metadata": {},
   "outputs": [],
   "source": []
  }
 ],
 "metadata": {
  "kernelspec": {
   "display_name": "Python 3",
   "language": "python",
   "name": "python3"
  },
  "language_info": {
   "codemirror_mode": {
    "name": "ipython",
    "version": 3
   },
   "file_extension": ".py",
   "mimetype": "text/x-python",
   "name": "python",
   "nbconvert_exporter": "python",
   "pygments_lexer": "ipython3",
   "version": "3.7.2"
  }
 },
 "nbformat": 4,
 "nbformat_minor": 2
}
