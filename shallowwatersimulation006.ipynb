{
 "cells": [
  {
   "cell_type": "code",
   "execution_count": 1,
   "metadata": {},
   "outputs": [],
   "source": [
    "%matplotlib inline\n",
    "import numpy as np\n",
    "import matplotlib as mpl\n",
    "from matplotlib import animation, rc\n",
    "from mpl_toolkits.mplot3d import axes3d\n",
    "import matplotlib.pyplot as plt\n",
    "import ipywidgets as widgets\n",
    "from ipywidgets import interactive, Button\n",
    "from IPython.display import display, HTML\n",
    "\n",
    "\n",
    "#"
   ]
  },
  {
   "cell_type": "code",
   "execution_count": 2,
   "metadata": {},
   "outputs": [],
   "source": [
    "#\n",
    "\n",
    "\n",
    "# useful math functions\n",
    "\n",
    "def d_dx(a, dx):\n",
    "    ddx = -( a[:-1] - a[1:] )/(dx) \n",
    "    return ddx\n",
    "def d_dy(a, dy):\n",
    "    ddy = -( a[:,:-1] - a[:,1:] )/(dy)\n",
    "    return ddy\n",
    "def div(u, v, DX):\n",
    "    div = d_dx(u, DX[0]) + d_dy(v, DX[1])\n",
    "    return div\n",
    "\n",
    "\n",
    "def planegauss(shape, w = 1/2, win=((-2, 2), (-2, 2))): # function to generate a gaussian across a 2d array, used for gaussian initial condition\n",
    "    h=np.empty(shape, dtype=np.float32)\n",
    "    npx = np.linspace( win[0][0], win[0][1], shape[0] )\n",
    "    npy = np.linspace( win[1][0],win[1][1], shape[1] )\n",
    "    npxx, npyy = np.meshgrid(npx, npy)\n",
    "    h = np.exp( -np.e * ( npxx*npxx + npyy*npyy ) / (w*w) )\n",
    "    return (h)\n",
    "\n",
    "\n",
    "\n",
    "\n",
    "def lingauss(shape, w = 1/2, ax = 0, win = (-2, 2)):\n",
    "    h=np.empty(shape, dtype=np.float32)\n",
    "    npx = np.linspace( win[0], win[1], shape[0] )\n",
    "    npy = np.linspace( win[0], win[1], shape[1] )\n",
    "    npxx, npyy = np.meshgrid(npy, npx)\n",
    "    xy = (npyy, npxx)[ax]\n",
    "    h = np.exp( -np.e * ( xy*xy ) / (w*w) )\n",
    "    return (h)\n",
    "#"
   ]
  },
  {
   "cell_type": "code",
   "execution_count": 3,
   "metadata": {},
   "outputs": [],
   "source": [
    "#\n",
    "\n",
    "class p():\n",
    "    g = np.float32(10.0)\n",
    "\n",
    "\n",
    "\n",
    "\n",
    "        \n",
    "class initcons():\n",
    "#     def __init__(self):\n",
    "    #self.\n",
    "    DX = np.array([100, 100], dtype=np.float32) # meters\n",
    "    size = (100, 100) # grid squares (dx)\n",
    "\n",
    "    #initial condition constants\n",
    "    #self.\n",
    "    h = 100-300*planegauss(size, 1)\n",
    "#     h = 100*np.ones(size)\n",
    "    n = 1*lingauss(size, 1/4, 0, (-3, 1)) # intial condition\n",
    "    u = np.zeros((size[0]+1, size[1]+0)) # global x vel array\n",
    "    v = np.zeros((size[0]+0, size[1]+1)) # global y vel array\n",
    "\n",
    "\n",
    "# initcons = initcon()\n",
    "\n",
    "class State():\n",
    "    g = 10 # m/s/s\n",
    "    def __init__(self, DX, h, n, u, v):\n",
    "        \n",
    "        self.DX = DX\n",
    "        self.h = h\n",
    "        \n",
    "        self.wavespeed = np.sqrt(np.max(self.h)*p.g)\n",
    "        \n",
    "        self.n = np.asarray(n, dtype=np.float32)\n",
    "        self.u = np.asarray(u, dtype=np.float32) # global x vel array\n",
    "        self.v = np.asarray(v, dtype=np.float32) # global y vel array\n",
    "        \n",
    "        \n",
    "        assert (np.isscalar(self.h) or self.h.shape == self.h.shape) # 'or' is short circuit\n",
    "        self.calcDt()\n",
    "        return\n",
    "    \n",
    "    def calcDt(self, fudge = 5):\n",
    "        self.dt = np.min(self.DX)/(fudge*self.wavespeed)\n",
    "        return\n",
    "    def setnuv(self, n, u, v):\n",
    "        self.n, self.u, self.v = n, u, v\n",
    "        return\n",
    "\n",
    "\n",
    "state1 = State(initcons.DX, initcons.h, initcons.n, initcons.u, initcons.v)\n",
    "\n",
    "\n",
    "#"
   ]
  },
  {
   "cell_type": "code",
   "execution_count": 4,
   "metadata": {},
   "outputs": [],
   "source": [
    "#\n",
    "\n",
    "\n",
    "# display functions\n",
    "\n",
    "def dispimg(a):\n",
    "    imgplot = plt.imshow(a, 'Oranges')\n",
    "    plt.colorbar()\n",
    "    return\n",
    "\n",
    "def disp3d(aa, box = (None, None, None), fsize = (8, 8), lines=(35,35)):\n",
    "    xlim = box[0]\n",
    "    ylim = box[1]\n",
    "    zlim = box[2]\n",
    "    if (xlim==None):\n",
    "        xlim = (0, aa[0].shape[0])\n",
    "    if (ylim==None): ylim = (0, aa[0].shape[1])\n",
    "    if (zlim==None):\n",
    "        ran = np.max(aa[0])-np.min(aa[0])\n",
    "        zlim = (np.min(aa[0])-ran, np.max(aa[0])+ran)\n",
    "        zlim = (-2, 2)\n",
    "    \n",
    "    x = np.linspace(0, aa[0].shape[0]-1, lines[0], dtype=int)\n",
    "    y = np.linspace(0, aa[0].shape[1]-1, lines[1], dtype=int)\n",
    "    xx, yy = np.meshgrid(x, y, indexing='ij')\n",
    "    \n",
    "    \n",
    "    \n",
    "    fig = plt.figure(figsize=fsize)\n",
    "    ax = fig.add_subplot(111, projection='3d')\n",
    "#     t = 0\n",
    "#     wav = np.cos(2*np.pi*np.linspace(-2, 2, 8))**2 /2\n",
    "    for a in aa:\n",
    "        A = a[xx,yy]\n",
    "#         col = (wav[-1-t], wav[-t], wav[t-1])\n",
    "        ax.plot_wireframe(xx, yy, A)\n",
    "#         t+=1\n",
    "    ax.set_xlim(xlim)\n",
    "    ax.set_ylim(ylim)\n",
    "    ax.set_zlim(zlim)\n",
    "    \n",
    "    plt.show()\n",
    "    \n",
    "    return\n",
    "\n",
    "def contour(a, fsize = (8, 8)):\n",
    "    x = np.arange(0, a.shape[0], dtype=np.float32)\n",
    "    y = np.arange(0, a.shape[1], dtype=np.float32)\n",
    "    xx, yy = np.meshgrid(x, y)\n",
    "    \n",
    "    plt.figure(figsize=fsize)\n",
    "    plt.contour(xx, yy, a)\n",
    "    plt.title(\"water surface height\")\n",
    "    plt.colorbar()\n",
    "    \n",
    "    return\n",
    "\n",
    "\n",
    "def vect(u, v, xlim='default', ylim='default', fsize=(8, 8), arws=(10, 10), arwsz=100):\n",
    "    if (xlim=='default'): xlim = (0, u.shape[0])\n",
    "    if (ylim=='default'): ylim = (0, v.shape[1])\n",
    "    arws = (int(arws[0]), int(arws[1]))\n",
    "    \n",
    "    x = np.linspace(0, u.shape[0]-1, arws[0], dtype=int)\n",
    "    y = np.linspace(0, v.shape[1]-1, arws[1], dtype=int)\n",
    "    xx, yy = np.meshgrid(x, y, indexing='ij')\n",
    "    uu = u[x,y]\n",
    "    vv = v[x,y]\n",
    "    m = np.hypot(uu, vv)\n",
    "    \n",
    "    fig, ax = plt.subplots(figsize=fsize)\n",
    "    ax.quiver(xx, yy, vv, uu, m, scale = 1/arwsz)\n",
    "    ax.set_xlim(xlim)\n",
    "    ax.set_ylim(ylim)\n",
    "    plt.show()\n",
    "    \n",
    "    return\n",
    "\n",
    "\n",
    "\n",
    "\n",
    "    \n",
    "\n",
    "#"
   ]
  },
  {
   "cell_type": "code",
   "execution_count": 5,
   "metadata": {
    "scrolled": false
   },
   "outputs": [
    {
     "name": "stdout",
     "output_type": "stream",
     "text": [
      "group velocity\n"
     ]
    },
    {
     "data": {
      "image/png": "[encoded data removed]",
      "text/plain": [
       "<Figure size 576x576 with 2 Axes>"
      ]
     },
     "metadata": {
      "needs_background": "light"
     },
     "output_type": "display_data"
    },
    {
     "data": {
      "image/png": "[encoded data removed]",
      "text/plain": [
       "<Figure size 576x576 with 1 Axes>"
      ]
     },
     "metadata": {
      "needs_background": "light"
     },
     "output_type": "display_data"
    }
   ],
   "source": [
    "#\n",
    "\n",
    "\n",
    "#display initial conditions, tests display functions\n",
    "\n",
    "\n",
    "contour(state1.n)\n",
    "\n",
    "\n",
    "# print(\"height\")\n",
    "# disp3d((state1.n, -state1.h)) # 3d wireframe plot\n",
    "\n",
    "print(\"group velocity\")\n",
    "vect(d_dx(state1.u, state1.DX[0]), d_dy(state1.v, state1.DX[1]), arws=(20, 20))\n",
    "\n",
    "\n",
    "#"
   ]
  },
  {
   "cell_type": "code",
   "execution_count": 6,
   "metadata": {},
   "outputs": [],
   "source": [
    "#\n",
    "\n",
    "\n",
    "\n",
    "\n",
    "def dndt(h, n, u, v, DX) :\n",
    "    hx = np.empty((n.shape[0]+1, n.shape[1]), dtype=n.dtype)\n",
    "    hx[1:-1] = ((h+n)[1:] + (h+n)[:-1])/2 # average to same shape as u\n",
    "    hx[0] = hx[-1] = 0.0\n",
    "    hy = np.empty((n.shape[0], n.shape[1]+1), dtype=n.dtype)\n",
    "    hy[:,1:-1] = ((h+n)[:,1:] + (h+n)[:,:-1])/2 # average to same shape as v\n",
    "    hy[:,0] = hy[:,-1] = 0.0 # reflective boundaries borders\n",
    "    hx *= u # momentum of water column.\n",
    "    hy *= v\n",
    "    dndt = (div(hx, hy, -DX))\n",
    "    return ( dndt )\n",
    "def dudt(n, dx) :\n",
    "    dudt = np.empty((n.shape[0]+1, n.shape[1]), dtype=n.dtype)\n",
    "    dudt[1:-1] = d_dx(n, -dx/p.g)\n",
    "    dudt[0] = dudt[-1] = 0# reflective boundaries\n",
    "    return ( dudt )\n",
    "def dvdt(n, dy) :\n",
    "    dvdt = np.empty((n.shape[0], n.shape[1]+1), dtype=n.dtype)\n",
    "    dvdt[:,1:-1] = d_dy(n, -dy/p.g)\n",
    "    dvdt[:,0] = dvdt[:,-1] = 0 # reflective boundaries\n",
    "    return ( dvdt )\n",
    "\n",
    "\n",
    "\n",
    "def land(h, u ,v):\n",
    "    #boundaries / land\n",
    "    coastx = np.less(h, 5) # start a little farther than the coast so H+n is never less than zero\n",
    "    (u[1:])[coastx] = (u[:-1])[coastx] = 0\n",
    "    (v[:,1:])[coastx] = (v[:,:-1])[coastx] = 0\n",
    "    return (u, v)\n",
    "\n",
    "\n",
    "\n",
    "def forward(h, n, u, v, dt, DX): # forward euler timestep\n",
    "    nn1 = n + ( dndt(h, n, u, v, DX) )*dt\n",
    "    un1 = u + ( dudt(n) )*dt\n",
    "    vn1 = v + ( dvdt(n) )*dt\n",
    "    return nn1, un1, vn1\n",
    "\n",
    "\n",
    "def fbfeedback(h, n, u, v, dt, DX, doland=land): # forward backward feedback\n",
    "    \n",
    "    \n",
    "    beta = 1/3\n",
    "    eps = 2/3\n",
    "    one = np.single(1)\n",
    "    p5 = np.single(0.5)\n",
    "    \n",
    "    n1g = n + dndt(h, n, u, v, DX)*dt\n",
    "    u1g = u + ( beta*dudt(n1g, DX[0]) +  (1-beta)*dudt(n, DX[0]) )*dt\n",
    "    v1g = v + ( beta*dvdt(n1g, DX[1]) +  (1-beta)*dvdt(n, DX[1]) )*dt\n",
    "    \n",
    "    \n",
    "    u1g, v1g = doland(h, u1g, v1g)\n",
    "    \n",
    "    \n",
    "    n1 = n + 0.5*(dndt(h, n1g, u1g, v1g, DX) + dndt(h, n, u, v, DX))*dt\n",
    "    u1 = u + 0.5*(eps*dudt(n1, DX[0])+(1-eps)*dudt(n1g, DX[0])+dudt(n, DX[0]))*dt\n",
    "    v1 = v + 0.5*(eps*dvdt(n1, DX[1])+(1-eps)*dvdt(n1g, DX[1])+dvdt(n, DX[1]))*dt\n",
    "    \n",
    "    \n",
    "    u1, v1 = doland(h, u1, v1)# how to handle land/coast\n",
    "    \n",
    "    \n",
    "    return n1, u1, v1\n",
    "\n",
    "\n",
    "\n",
    "\n",
    "def timestep(h, n, u, v, dt, DX): return fbfeedback(h, n, u, v, dt, DX, doland=land)\n",
    "\n",
    "#"
   ]
  },
  {
   "cell_type": "code",
   "execution_count": 24,
   "metadata": {},
   "outputs": [],
   "source": [
    "#\n",
    "\n",
    "\n",
    "\n",
    "# simulate through time\n",
    "\n",
    "\n",
    "# displays resulting water height after time t\n",
    "def _simulate(h, n, u, v, t, DX, dt = 1):\n",
    "    # dont try if timstep is zero or negative\n",
    "    if (dt <= 0):\n",
    "        return False\n",
    "    \n",
    "    # iterate t times with interval size dt\n",
    "    itr = 0\n",
    "    while (itr < t):\n",
    "        n, u, v = timestep(h, n, u, v, dt, DX) # pushes n, u, v one step into the future\n",
    "        \n",
    "        itr += dt\n",
    "    \n",
    "    return n, u ,v\n",
    "\n",
    "\n",
    "def simulate(state, t):\n",
    "    endState = State(state.DX, state.h, state.n, state.u, state.v)\n",
    "    endState.n, endState.u, endState.v = _simulate(state.h, state.n, state.u, state.v, t, state.DX, state.dt)\n",
    "    return endState\n",
    "    \n",
    "#"
   ]
  },
  {
   "cell_type": "code",
   "execution_count": 20,
   "metadata": {},
   "outputs": [],
   "source": [
    "#\n",
    " \n",
    "# runs and displays simulation\n",
    "def rendersim(state, t):\n",
    "    \n",
    "    # run simulation with initial condition inputs and t seconds\n",
    "    endstate = simulate(state, t)\n",
    "    \n",
    "#     print('integral dxdy: ')\n",
    "#     print(np.sum(endstate.n))\n",
    "    \n",
    "    # display water height\n",
    "#     disp3d((endstate.n, -endstate.h))\n",
    "    contour(endstate.n)\n",
    "    # display vector feild of velocity\n",
    "    vect(d_dx(endstate.u, endstate.DX[0]), d_dy(endstate.v, endstate.DX[1]), arws = (30, 30))\n",
    "    \n",
    "    return\n",
    "\n",
    "#"
   ]
  },
  {
   "cell_type": "code",
   "execution_count": 21,
   "metadata": {
    "scrolled": false
   },
   "outputs": [
    {
     "data": {
      "application/vnd.jupyter.widget-view+json": {
       "model_id": "5e60894323f24b24a2e5fcb581d02948",
       "version_major": 2,
       "version_minor": 0
      },
      "text/plain": [
       "interactive(children=(IntSlider(value=10, description='t', max=1000), Button(description='run simulation', sty…"
      ]
     },
     "metadata": {},
     "output_type": "display_data"
    }
   ],
   "source": [
    "#\n",
    "def renderstate1(t): rendersim(state1, t)\n",
    "\n",
    "# control and interact with sim\n",
    "controls = interactive(renderstate1, # runs simulate() on initial conditions\n",
    "                       {'manual' : True, 'manual_name' : 'run simulation'}, # dont run until I say so\n",
    "                       t = widgets.IntSlider(min = 0, max = 1000, value = 10) # time elapsed (s)\n",
    "                       )\n",
    "display(controls)\n",
    "#                        dt = widgets.FloatSlider(min = 0.25*DT, max = 4*DT, step = 0.1*DT, value = DT) # time interval\n",
    "\n",
    "#                       state = state1,\n",
    "#"
   ]
  },
  {
   "cell_type": "code",
   "execution_count": 1,
   "metadata": {
    "scrolled": false
   },
   "outputs": [
    {
     "ename": "NameError",
     "evalue": "name 'state1' is not defined",
     "output_type": "error",
     "traceback": [
      "\u001b[0;31m---------------------------------------------------------------------------\u001b[0m",
      "\u001b[0;31mNameError\u001b[0m                                 Traceback (most recent call last)",
      "\u001b[0;32m<ipython-input-1-b9335de76eb4>\u001b[0m in \u001b[0;36m<module>\u001b[0;34m()\u001b[0m\n\u001b[1;32m     21\u001b[0m     \u001b[0;32mreturn\u001b[0m \u001b[0manim\u001b[0m\u001b[0;34m\u001b[0m\u001b[0m\n\u001b[1;32m     22\u001b[0m \u001b[0;34m\u001b[0m\u001b[0m\n\u001b[0;32m---> 23\u001b[0;31m \u001b[0mmotioncon\u001b[0m\u001b[0;34m(\u001b[0m\u001b[0mstate1\u001b[0m\u001b[0;34m,\u001b[0m \u001b[0;34m'waveisland1'\u001b[0m\u001b[0;34m,\u001b[0m \u001b[0;36m150\u001b[0m\u001b[0;34m,\u001b[0m \u001b[0;36m20\u001b[0m\u001b[0;34m)\u001b[0m\u001b[0;34m\u001b[0m\u001b[0m\n\u001b[0m",
      "\u001b[0;31mNameError\u001b[0m: name 'state1' is not defined"
     ]
    }
   ],
   "source": [
    "\n",
    "def motioncon(state, name, t, frames=60, fsize=(8,8)):\n",
    "    x = np.arange(0, state.n.shape[0], dtype=np.float32)\n",
    "    y = np.arange(0, state.n.shape[1], dtype=np.float32)\n",
    "    xx, yy = np.meshgrid(x, y)\n",
    "    fig = plt.figure(figsize=fsize)\n",
    "    \n",
    "    def animate(i):\n",
    "        s = i*t/frames\n",
    "        endState = simulate(state, s)\n",
    "        z = endState.n\n",
    "        frame = plt.contourf(xx, yy, z)\n",
    "        \n",
    "#         state.n, state.u, state.v = timestep(state.h, state.n, state.u, state.v, dt, state.DX)\n",
    "        return frame\n",
    "    plt.title(\"water surface height\")\n",
    "#     plt.colorbar()\n",
    "    anim = animation.FuncAnimation(fig, animate, frames=frames, repeat=True)\n",
    "    anim.save('../results/'+name+'.mp4')\n",
    "    \n",
    "    return anim\n",
    "\n",
    "motioncon(state1, 'waveisland1', 150, 20)"
   ]
  },
  {
   "cell_type": "code",
   "execution_count": 11,
   "metadata": {},
   "outputs": [
    {
     "name": "stderr",
     "output_type": "stream",
     "text": [
      "."
     ]
    },
    {
     "name": "stdout",
     "output_type": "stream",
     "text": [
      "float32 float32 float32\n"
     ]
    },
    {
     "name": "stderr",
     "output_type": "stream",
     "text": [
      "\n",
      "----------------------------------------------------------------------\n",
      "Ran 1 test in 0.074s\n",
      "\n",
      "OK\n"
     ]
    },
    {
     "data": {
      "text/plain": [
       "<unittest.main.TestProgram at 0x7f33a72ebba8>"
      ]
     },
     "execution_count": 11,
     "metadata": {},
     "output_type": "execute_result"
    }
   ],
   "source": [
    "#wavespeed test\n",
    "import unittest\n",
    "\n",
    "\n",
    "\n",
    "\n",
    "class testWaveSpeed(unittest.TestCase):\n",
    "    def setUp(self):\n",
    "        self.dur = 100 # duration of period to calculate speed over\n",
    "        self.DX = np.array([100, 100]) # meters\n",
    "        self.size = (10, 1000) # grid squares (dx's)\n",
    "        self.h = 10#*planegauss((sizex, sizey), 1)\n",
    "        self.n = 1*lingauss(self.size, 1/4, 1) # intial condition\n",
    "        self.u = np.zeros((self.size[0]+1, self.size[1]+0)) # global x vel array\n",
    "        self.v = np.zeros((self.size[0]+0, self.size[1]+1)) # global y vel array\n",
    "    def calcWaveSpeed(self, ar1, ar2, Dt):\n",
    "        midstrip1 = ar1[:,:int(ar1.shape[1]/2)]\n",
    "        midstrip2 = ar2[:,:int(ar2.shape[1]/2)]\n",
    "        peakloc1 = np.argmax(midstrip1)\n",
    "        peakloc2 = np.argmax(midstrip2)\n",
    "        speed = (peakloc2 - peakloc2)/Dt\n",
    "        return speed\n",
    "    def calcExactWaveSpeed(self):\n",
    "        ws = np.sqrt(p.g*np.average(self.h))\n",
    "        return ws\n",
    "    def test_wavespeed(self):\n",
    "        self.testStart = State(self.DX, self.h, self.n, self.u, self.v)\n",
    "        self.testEnd = simulate(self.testStart, self.dur)\n",
    "        \n",
    "        calcedws = self.calcWaveSpeed( self.testStart.n, self.testEnd.n, self.dur )\n",
    "        exactws = self.calcExactWaveSpeed()\n",
    "        \n",
    "        err = calcedws - exactws\n",
    "        assert(abs(err) < 11)\n",
    "    def tearDown(self):\n",
    "        del(self.dur)\n",
    "        del(self.DX)\n",
    "        del(self.size)\n",
    "        del(self.h)\n",
    "        del(self.n)\n",
    "        del(self.u)\n",
    "        del(self.v)\n",
    "\n",
    "\n",
    "\n",
    "unittest.main(argv=['first-arg-is-ignored'], exit=False)\n",
    "\n",
    "\n"
   ]
  },
  {
   "cell_type": "code",
   "execution_count": null,
   "metadata": {},
   "outputs": [],
   "source": [
    "\n",
    "\n",
    "\n",
    "\n",
    "\n",
    "\n"
   ]
  },
  {
   "cell_type": "code",
   "execution_count": 12,
   "metadata": {},
   "outputs": [
    {
     "data": {
      "text/plain": [
       "<mpl_toolkits.mplot3d.art3d.Line3DCollection at 0x7f33a75412b0>"
      ]
     },
     "execution_count": 12,
     "metadata": {},
     "output_type": "execute_result"
    },
    {
     "data": {
      "image/png": "[encoded data removed]",
      "text/plain": [
       "<Figure size 432x288 with 1 Axes>"
      ]
     },
     "metadata": {
      "needs_background": "light"
     },
     "output_type": "display_data"
    }
   ],
   "source": [
    "a = np.arange(100)\n",
    "b = np.arange(10)\n",
    "aa, bb = np.meshgrid(a, b)\n",
    "aa.shape, bb.shape\n",
    "fig = plt.figure()\n",
    "ax = fig.add_subplot(111, projection='3d')\n",
    "ax.plot_wireframe(aa, bb, np.ones((10, 100)))"
   ]
  },
  {
   "cell_type": "code",
   "execution_count": 13,
   "metadata": {},
   "outputs": [
    {
     "name": "stderr",
     "output_type": "stream",
     "text": [
      ".."
     ]
    },
    {
     "name": "stdout",
     "output_type": "stream",
     "text": [
      "float32 float32 float32\n"
     ]
    },
    {
     "name": "stderr",
     "output_type": "stream",
     "text": [
      "\n",
      "----------------------------------------------------------------------\n",
      "Ran 2 tests in 0.079s\n",
      "\n",
      "OK\n"
     ]
    },
    {
     "data": {
      "text/plain": [
       "<unittest.main.TestProgram at 0x7f33a76ad550>"
      ]
     },
     "execution_count": 13,
     "metadata": {},
     "output_type": "execute_result"
    }
   ],
   "source": [
    "import unittest\n",
    "\n",
    "# unit test of differential functions\n",
    "class testdifferential(unittest.TestCase):\n",
    "    def setUp(self):\n",
    "        self.a = np.arange(144) # test input\n",
    "        self.a = self.a.reshape(12, 12) # 2d array\n",
    "        self.ddthreshold = 1E-16\n",
    "        \n",
    "    def test_ddx(self):\n",
    "        da = d_dx(self.a, 1)\n",
    "        diff = np.abs(da[1:-1] - np.mean(da[1:-1]))\n",
    "        maxdiff = np.max(diff)\n",
    "        self.assertTrue(np.all(np.abs(da[-1:1] < self.ddthreshold)),\"expected zero along borders\")\n",
    "        self.assertTrue(np.all(diff < self.ddthreshold),\"Expected constant d_dx less than %f but got %f\"%(self.ddthreshold,maxdiff))\n",
    "    \n",
    "    def tearDown(self):\n",
    "        del(self.a)\n",
    "        del(self.ddthreshold)\n",
    "        \n",
    "        \n",
    "unittest.main(argv=['first-arg-is-ignored'], exit=False)\n",
    "\n",
    "#You can pass further arguments in the argv list, e.g.\n",
    "\n",
    "#unittest.main(argv=['ignored', '-v'], exit=False)      \n",
    "#unittest.main()"
   ]
  },
  {
   "cell_type": "code",
   "execution_count": 14,
   "metadata": {},
   "outputs": [
    {
     "data": {
      "text/plain": [
       "<matplotlib.colorbar.Colorbar at 0x7f33a71cc390>"
      ]
     },
     "execution_count": 14,
     "metadata": {},
     "output_type": "execute_result"
    },
    {
     "data": {
      "image/png": "[encoded data removed]",
      "text/plain": [
       "<Figure size 432x288 with 2 Axes>"
      ]
     },
     "metadata": {
      "needs_background": "light"
     },
     "output_type": "display_data"
    }
   ],
   "source": [
    "b = np.arange(196)\n",
    "b = b.reshape(14, 14)\n",
    "b = b*b #x^2 array\n",
    "\n",
    "fig, ax = plt.subplots()\n",
    "adif = plt.imshow(d_dx(b, 1)) # should print a constange in x with odd boundaries\n",
    "plt.colorbar()"
   ]
  },
  {
   "cell_type": "code",
   "execution_count": 15,
   "metadata": {},
   "outputs": [
    {
     "name": "stdout",
     "output_type": "stream",
     "text": [
      "90\n"
     ]
    },
    {
     "data": {
      "text/plain": [
       "(array([ 7,  7,  7,  7,  7,  8,  8,  8,  8,  8,  8,  8,  8,  8,  8,  8,  8,\n",
       "         9,  9,  9,  9,  9,  9,  9,  9,  9,  9,  9,  9, 10, 10, 10, 10, 10,\n",
       "        10, 10, 10, 10, 10, 10, 10, 11, 11, 11, 11, 11, 11, 11, 11, 11, 11,\n",
       "        11, 11]),\n",
       " array([ 7,  8,  9, 10, 11,  0,  1,  2,  3,  4,  5,  6,  7,  8,  9, 10, 11,\n",
       "         0,  1,  2,  3,  4,  5,  6,  7,  8,  9, 10, 11,  0,  1,  2,  3,  4,\n",
       "         5,  6,  7,  8,  9, 10, 11,  0,  1,  2,  3,  4,  5,  6,  7,  8,  9,\n",
       "        10, 11]))"
      ]
     },
     "execution_count": 15,
     "metadata": {},
     "output_type": "execute_result"
    }
   ],
   "source": [
    "a= np.arange(144)\n",
    "b = a.reshape(12, 12)\n",
    "print (b[7, 6])\n",
    "np.where(b > 90)\n"
   ]
  },
  {
   "cell_type": "code",
   "execution_count": 16,
   "metadata": {},
   "outputs": [
    {
     "name": "stdout",
     "output_type": "stream",
     "text": [
      "[[ 0  1  2  3  4  5  6  7]\n",
      " [ 8  9 10 11 12 13 14 15]\n",
      " [16 17 18 19 20 21 22 23]\n",
      " [24 25 26 27 28 29 30 31]\n",
      " [32 33 34 35 36 37 38 39]\n",
      " [40 41 42 43 44 45 46 47]\n",
      " [48 49 50 51 52 53 54 55]\n",
      " [56 57 58 59 60 61 62 63]]\n",
      "[[8 8 8 8 8 8 8 8]\n",
      " [8 8 8 8 8 8 8 8]\n",
      " [8 8 8 8 8 8 8 8]\n",
      " [8 8 8 8 8 8 8 8]\n",
      " [8 8 8 8 8 8 8 8]\n",
      " [8 8 8 8 8 8 8 8]\n",
      " [8 8 8 8 8 8 8 8]]\n"
     ]
    },
    {
     "data": {
      "text/plain": [
       "array([[0, 0, 0, 0, 0, 0, 0, 0],\n",
       "       [8, 8, 8, 8, 8, 8, 8, 8],\n",
       "       [8, 8, 8, 8, 8, 8, 8, 8],\n",
       "       [8, 8, 8, 8, 8, 8, 8, 8],\n",
       "       [8, 8, 8, 8, 8, 8, 8, 8],\n",
       "       [8, 8, 8, 8, 8, 8, 8, 8],\n",
       "       [8, 8, 8, 8, 8, 8, 8, 8],\n",
       "       [8, 8, 8, 8, 8, 8, 8, 8],\n",
       "       [0, 0, 0, 0, 0, 0, 0, 0]])"
      ]
     },
     "execution_count": 16,
     "metadata": {},
     "output_type": "execute_result"
    }
   ],
   "source": [
    "a= np.arange(64).reshape(8,8)\n",
    "print(a)\n",
    "print(a[1:]-a[:-1])\n",
    "foof = np.empty((9,8), dtype=int)\n",
    "foof[1:-1] = a[1:]-a[:-1]\n",
    "foof[0] = foof[-1] = 0\n",
    "foof"
   ]
  },
  {
   "cell_type": "code",
   "execution_count": 17,
   "metadata": {},
   "outputs": [
    {
     "data": {
      "text/plain": [
       "array([-10, -30])"
      ]
     },
     "execution_count": 17,
     "metadata": {},
     "output_type": "execute_result"
    }
   ],
   "source": [
    "tpl = np.array([10, 30])\n",
    "-tpl"
   ]
  },
  {
   "cell_type": "code",
   "execution_count": 18,
   "metadata": {},
   "outputs": [
    {
     "data": {
      "text/plain": [
       "dtype('float32')"
      ]
     },
     "execution_count": 18,
     "metadata": {},
     "output_type": "execute_result"
    }
   ],
   "source": [
    "a = np.arange(32,dtype=np.float32).reshape(4,8)\n",
    "(a*1/3+0.5).dtype"
   ]
  },
  {
   "cell_type": "code",
   "execution_count": null,
   "metadata": {},
   "outputs": [],
   "source": []
  },
  {
   "cell_type": "code",
   "execution_count": null,
   "metadata": {},
   "outputs": [],
   "source": []
  },
  {
   "cell_type": "code",
   "execution_count": null,
   "metadata": {},
   "outputs": [],
   "source": []
  }
 ],
 "metadata": {
  "kernelspec": {
   "display_name": "Python 3",
   "language": "python",
   "name": "python3"
  },
  "language_info": {
   "codemirror_mode": {
    "name": "ipython",
    "version": 3
   },
   "file_extension": ".py",
   "mimetype": "text/x-python",
   "name": "python",
   "nbconvert_exporter": "python",
   "pygments_lexer": "ipython3",
   "version": "3.7.1"
  }
 },
 "nbformat": 4,
 "nbformat_minor": 2
}
