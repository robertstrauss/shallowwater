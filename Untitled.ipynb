{
 "cells": [
  {
   "cell_type": "code",
   "execution_count": 2,
   "metadata": {},
   "outputs": [],
   "source": [
    "import numpy as np\n",
    "import pylab as plt\n"
   ]
  },
  {
   "cell_type": "code",
   "execution_count": 3,
   "metadata": {},
   "outputs": [
    {
     "data": {
      "text/plain": [
       "<matplotlib.image.AxesImage at 0x7fa312f03320>"
      ]
     },
     "execution_count": 3,
     "metadata": {},
     "output_type": "execute_result"
    },
    {
     "data": {
      "image/png": "[encoded data removed]",
      "text/plain": [
       "<Figure size 432x288 with 1 Axes>"
      ]
     },
     "metadata": {
      "needs_background": "light"
     },
     "output_type": "display_data"
    }
   ],
   "source": [
    "x = (np.arange(10000).reshape((100,100))-500)**2\n",
    "plt.imshow(x)\n"
   ]
  },
  {
   "cell_type": "code",
   "execution_count": 4,
   "metadata": {},
   "outputs": [
    {
     "data": {
      "text/plain": [
       "(69,)"
      ]
     },
     "execution_count": 4,
     "metadata": {},
     "output_type": "execute_result"
    }
   ],
   "source": [
    "m1 = []\n",
    "m2 = []\n",
    "k=0\n",
    "w = 10\n",
    "for i in range(w):\n",
    "    for j in range(w):\n",
    "        if (i-w//2)**2 +(j-w//2)**2 < w*w/4:\n",
    "            m1.append (i-w//2)\n",
    "            m2.append (j-w//2)\n",
    "       \n",
    "m1 = np.array(m1)\n",
    "m2 = np.array(m2)\n",
    "m2.shape"
   ]
  },
  {
   "cell_type": "code",
   "execution_count": 6,
   "metadata": {},
   "outputs": [
    {
     "name": "stdout",
     "output_type": "stream",
     "text": [
      "[50 53 57 61 64 67 70 73 75 77 78 79 79 79 79 78 77 75 73 70 67 64 61 57\n",
      " 53 50 46 42 38 35 32 29 26 24 22 21 20 20 20 20 21 22 24 26 29 32 35 38\n",
      " 42 46 49 53 57 61 64 67 70 73 75 77 78 79 79 79 79 78 77 75 73 70 67 64\n",
      " 61 57 53 50 46 42 38 35 32 29 26 24 22 21 20 20 20 20 21 22 24 26 29 32\n",
      " 35 38 42 46] [-4 -4 -4 -4 -4 -3 -3 -3 -3 -3 -3 -3 -2 -2 -2 -2 -2 -2 -2 -2 -2 -1 -1 -1\n",
      " -1 -1 -1 -1 -1 -1  0  0  0  0  0  0  0  0  0  1  1  1  1  1  1  1  1  1\n",
      "  2  2  2  2  2  2  2  2  2  3  3  3  3  3  3  3  4  4  4  4  4]\n",
      "(69, 100)\n"
     ]
    }
   ],
   "source": [
    "s1 = 0.3*np.sin(np.arange(100)/100.0*np.pi*4)*x.shape[0]+x.shape[0]//2\n",
    "c1 =0.3*np.cos(np.arange(100)/100.0*np.pi*3)*x.shape[1]+x.shape[1]//2\n",
    "\n",
    "s1 = np.array(s1,dtype=int)\n",
    "c1 = np.array(c1,dtype=int)\n",
    "print(s1, m1)\n",
    "\n",
    "m1a = m1[:,np.newaxis]+ c1\n",
    "m2a = m2[:,np.newaxis]+s1\n",
    "print(m2a.shape)\n",
    "\n",
    "m1a = m1a.flatten()\n",
    "m2a = m2a.flatten()\n",
    "\n",
    "\n"
   ]
  },
  {
   "cell_type": "code",
   "execution_count": 57,
   "metadata": {},
   "outputs": [],
   "source": [
    "y = np.zeros_like(x)\n",
    "\n",
    "y[m1a,m2a]=x[m1a,m2a]\n",
    "\n",
    "y[c1,s1] = x.mean()"
   ]
  },
  {
   "cell_type": "code",
   "execution_count": 58,
   "metadata": {},
   "outputs": [
    {
     "data": {
      "text/plain": [
       "<matplotlib.image.AxesImage at 0x7f9910e3c400>"
      ]
     },
     "execution_count": 58,
     "metadata": {},
     "output_type": "execute_result"
    },
    {
     "data": {
      "image/png": "[encoded data removed]",
      "text/plain": [
       "<Figure size 432x288 with 1 Axes>"
      ]
     },
     "metadata": {
      "needs_background": "light"
     },
     "output_type": "display_data"
    }
   ],
   "source": [
    "plt.imshow(y)"
   ]
  },
  {
   "cell_type": "code",
   "execution_count": null,
   "metadata": {},
   "outputs": [],
   "source": []
  }
 ],
 "metadata": {
  "kernelspec": {
   "display_name": "Python 3",
   "language": "python",
   "name": "python3"
  },
  "language_info": {
   "codemirror_mode": {
    "name": "ipython",
    "version": 3
   },
   "file_extension": ".py",
   "mimetype": "text/x-python",
   "name": "python",
   "nbconvert_exporter": "python",
   "pygments_lexer": "ipython3",
   "version": "3.7.2"
  }
 },
 "nbformat": 4,
 "nbformat_minor": 2
}
